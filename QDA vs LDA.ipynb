{
 "cells": [
  {
   "cell_type": "markdown",
   "metadata": {},
   "source": [
    "### QDA VS LDA"
   ]
  },
  {
   "cell_type": "markdown",
   "metadata": {},
   "source": [
    "#### Generated data with p = 2 features and a qualitative response with K = 3 classes, and n = 50 observations per class. Applied linear discriminant analysis to the data."
   ]
  },
  {
   "cell_type": "code",
   "execution_count": 629,
   "metadata": {},
   "outputs": [],
   "source": [
    "\n",
    "N <- 50 # Number of random samples\n",
    "set.seed(123)\n",
    "## Covariance matrix \n",
    "s1 <- 1\n",
    "cvm <- matrix(c(s1, 0, 0, s1),2) # Covariance matrix\n",
    "\n",
    "### Distribution 1\n",
    "# Target parameters for bivariate normal distributions\n",
    "m11 <- 0.5\n",
    "m12 <- 0.5\n",
    "# Parameters for bivariate normal distribution\n",
    "m1 <- c(m11,m12) # Mean \n",
    "\n",
    "### Distribution 2\n",
    "# Target parameters for bivariate normal distributions\n",
    "m21 <- 3\n",
    "m22 <- 3\n",
    "# Parameters for bivariate normal distribution\n",
    "m2 <- c(m21,m22) # Mean \n",
    "\n",
    "### Distribution 3\n",
    "# Target parameters for bivariate normal distributions\n",
    "m31 <- 3\n",
    "m32 <- -2\n",
    "# Parameters for bivariate normal distribution\n",
    "m3 <- c(m31,m32) # Mean "
   ]
  },
  {
   "cell_type": "code",
   "execution_count": 630,
   "metadata": {},
   "outputs": [
    {
     "name": "stderr",
     "output_type": "stream",
     "text": [
      "Installing package into 'C:/Users/shett/Documents/R/win-library/3.5'\n",
      "(as 'lib' is unspecified)\n"
     ]
    },
    {
     "ename": "ERROR",
     "evalue": "Error in contrib.url(repos, \"source\"): trying to use CRAN without setting a mirror\n",
     "output_type": "error",
     "traceback": [
      "Error in contrib.url(repos, \"source\"): trying to use CRAN without setting a mirror\nTraceback:\n",
      "1. install.packages(\"mvtnorm\")",
      "2. contrib.url(repos, \"source\")",
      "3. stop(\"trying to use CRAN without setting a mirror\")"
     ]
    }
   ],
   "source": [
    "install.packages('mvtnorm')"
   ]
  },
  {
   "cell_type": "code",
   "execution_count": 631,
   "metadata": {},
   "outputs": [],
   "source": [
    "library(mvtnorm)"
   ]
  },
  {
   "cell_type": "code",
   "execution_count": 632,
   "metadata": {},
   "outputs": [],
   "source": [
    "bvn1 <- rmvnorm(N, mean = m1, sigma = cvm )\n",
    "bvn2 <- rmvnorm(N, mean = m2, sigma = cvm )\n",
    "bvn3 <- rmvnorm(N, mean = m3, sigma = cvm )\n",
    "\n",
    "colnames(bvn1) <- c(\"x1\",\"x2\")\n",
    "colnames(bvn2) <- c(\"x1\",\"x2\")\n",
    "colnames(bvn3) <- c(\"x1\",\"x2\")\n",
    "\n",
    "df1 <- data.frame(bvn1)\n",
    "df2 <- data.frame(bvn2)\n",
    "df3 <- data.frame(bvn3)"
   ]
  },
  {
   "cell_type": "markdown",
   "metadata": {},
   "source": [
    "The common covariance matrix for the three classes is a 2x2 matrix with values \n",
    "\\begin{array}{cc}\n",
    "   1 & 0 \\\\\n",
    "   0 & 1 \\\\\n",
    "  \\end{array}"
   ]
  },
  {
   "cell_type": "markdown",
   "metadata": {},
   "source": [
    "The means for variables X1 and X2 for classes K=1,2,3 are {0.5,0.5} {3,3} and {3,-2} respectively."
   ]
  },
  {
   "cell_type": "markdown",
   "metadata": {},
   "source": [
    "#### Plotted the data, with the observations in each class displayed in a different color. Computed and display the Bayes decision boundary (or Bayes decision boundaries) on this plot."
   ]
  },
  {
   "cell_type": "code",
   "execution_count": 633,
   "metadata": {},
   "outputs": [],
   "source": [
    "# Set up grid over x in [-5, 10] in both directions\n",
    "x1 = seq(-5,10 , 0.1)\n",
    "x2 = x1\n",
    "grid = expand.grid(x1,x2)\n",
    "names(grid) = c(\"x1\",\"x2\")\n",
    "\n",
    "# Compute densities over grid, classify using maximum density \n",
    "d1 = apply(grid, 1, function(x) dmvnorm(as.numeric(x), mean = m1))\n",
    "d2 = apply(grid, 1, function(x) dmvnorm(as.numeric(x), mean = m2))\n",
    "d3 = apply(grid, 1, function(x) dmvnorm(as.numeric(x), mean = m3))\n",
    "\n",
    "# Class = 1 or 2 or 3\n",
    "grid$class = sapply(1:nrow(grid), function(x) which.max(c(d1[x], d2[x], d3[x])))"
   ]
  },
  {
   "cell_type": "code",
   "execution_count": 634,
   "metadata": {},
   "outputs": [
    {
     "name": "stderr",
     "output_type": "stream",
     "text": [
      "Installing package into 'C:/Users/shett/Documents/R/win-library/3.5'\n",
      "(as 'lib' is unspecified)\n"
     ]
    },
    {
     "ename": "ERROR",
     "evalue": "Error in contrib.url(repos, \"source\"): trying to use CRAN without setting a mirror\n",
     "output_type": "error",
     "traceback": [
      "Error in contrib.url(repos, \"source\"): trying to use CRAN without setting a mirror\nTraceback:\n",
      "1. install.packages(\"ggplot2\")",
      "2. contrib.url(repos, \"source\")",
      "3. stop(\"trying to use CRAN without setting a mirror\")"
     ]
    }
   ],
   "source": [
    "install.packages('ggplot2')"
   ]
  },
  {
   "cell_type": "code",
   "execution_count": 635,
   "metadata": {},
   "outputs": [],
   "source": [
    "library(ggplot2)"
   ]
  },
  {
   "cell_type": "code",
   "execution_count": 636,
   "metadata": {},
   "outputs": [
    {
     "data": {},
     "metadata": {},
     "output_type": "display_data"
    },
    {
     "data": {
      "image/png": "[encoded data removed]",
      "text/plain": [
       "plot without title"
      ]
     },
     "metadata": {},
     "output_type": "display_data"
    }
   ],
   "source": [
    "# Plot each grid point, coloured by the class (1 is black, 2 is red, 3 is green)\n",
    "plot1 <- ggplot() +\n",
    "geom_point(data=grid, aes(x=grid$x1,y=grid$x2,col=factor(grid$class)),pch=1,alpha=0.3) +\n",
    "geom_point(data=df1, aes(x=df1$x1,y=df1$x2),col='black',pch=17) +\n",
    "geom_point(data=df2, aes(x=df2$x1,y=df2$x2),col='red',pch=17) +\n",
    "geom_point(data=df3, aes(x=df3$x1,y=df3$x2),col='darkgreen',pch=17) +\n",
    "xlab('X1') +\n",
    "ylab('X2') +\n",
    "ggtitle(\"Bayes Classifier\") +\n",
    "scale_x_continuous(breaks = round(seq(min(grid$x1), max(grid$x1), by = 1),1)) +\n",
    "scale_y_continuous(breaks = round(seq(min(grid$x2), max(grid$x2), by = 0.5),1)) +\n",
    "scale_colour_identity(\"Regions\", labels = c(\"Class 1\",\"Class 2\",\"Class 3\"),guide = \"legend\")\n",
    "\n",
    "plot1"
   ]
  },
  {
   "cell_type": "markdown",
   "metadata": {},
   "source": [
    "#### Fitted a linear discriminant analysis model to the data, and made a plot that displays the observations as well as the decision boundary (or boundaries) corresponding to this plotted model."
   ]
  },
  {
   "cell_type": "code",
   "execution_count": 637,
   "metadata": {},
   "outputs": [],
   "source": [
    "## Add classes to the individual bivariate normal distribution dataframes\n",
    "df1_lda <- df1\n",
    "df2_lda <- df2\n",
    "df3_lda <- df3\n",
    "\n",
    "df1_lda$class <- 1\n",
    "df2_lda$class <- 2\n",
    "df3_lda$class <- 3\n",
    "\n",
    "## Combine seperate data frames into one class for training the LDA classifier\n",
    "lda_data <- df1_lda\n",
    "lda_data <- rbind(lda_data,df2_lda)\n",
    "lda_data <- rbind(lda_data,df3_lda)"
   ]
  },
  {
   "cell_type": "code",
   "execution_count": 638,
   "metadata": {},
   "outputs": [
    {
     "name": "stderr",
     "output_type": "stream",
     "text": [
      "Installing package into 'C:/Users/shett/Documents/R/win-library/3.5'\n",
      "(as 'lib' is unspecified)\n"
     ]
    },
    {
     "ename": "ERROR",
     "evalue": "Error in contrib.url(repos, \"source\"): trying to use CRAN without setting a mirror\n",
     "output_type": "error",
     "traceback": [
      "Error in contrib.url(repos, \"source\"): trying to use CRAN without setting a mirror\nTraceback:\n",
      "1. install.packages(\"MASS\")",
      "2. contrib.url(repos, \"source\")",
      "3. stop(\"trying to use CRAN without setting a mirror\")"
     ]
    }
   ],
   "source": [
    "install.packages(\"MASS\")"
   ]
  },
  {
   "cell_type": "code",
   "execution_count": 639,
   "metadata": {},
   "outputs": [],
   "source": [
    "library(MASS)"
   ]
  },
  {
   "cell_type": "code",
   "execution_count": 640,
   "metadata": {
    "scrolled": false
   },
   "outputs": [
    {
     "data": {
      "text/plain": [
       "Call:\n",
       "lda(class ~ x1 + x2, data = lda_data)\n",
       "\n",
       "Prior probabilities of groups:\n",
       "        1         2         3 \n",
       "0.3333333 0.3333333 0.3333333 \n",
       "\n",
       "Group means:\n",
       "         x1         x2\n",
       "1 0.6104964  0.5703154\n",
       "2 2.9011168  2.8837896\n",
       "3 3.2816609 -2.0407307\n",
       "\n",
       "Coefficients of linear discriminants:\n",
       "           LD1        LD2\n",
       "x1  0.01508405 -1.0963304\n",
       "x2 -1.02932398 -0.1122045\n",
       "\n",
       "Proportion of trace:\n",
       "   LD1    LD2 \n",
       "0.7255 0.2745 "
      ]
     },
     "metadata": {},
     "output_type": "display_data"
    }
   ],
   "source": [
    "#build and train the lda classifier\n",
    "lda_classifier <- lda(class∼x1+x2 ,data=lda_data)\n",
    "lda_classifier"
   ]
  },
  {
   "cell_type": "code",
   "execution_count": 641,
   "metadata": {},
   "outputs": [],
   "source": [
    "# Set up grid over x in [-5, 10] in both directions\n",
    "lda_x1 = seq(-5,10 , 0.1)\n",
    "lda_x2 = x1\n",
    "lda_grid = expand.grid(lda_x1,lda_x2)\n",
    "names(lda_grid) = c(\"x1\",\"x2\")\n",
    "\n",
    "# Class = 1 or 2 or 3\n",
    "lda_grid$class <- predict(lda_classifier,lda_grid)$class"
   ]
  },
  {
   "cell_type": "code",
   "execution_count": 642,
   "metadata": {},
   "outputs": [
    {
     "data": {},
     "metadata": {},
     "output_type": "display_data"
    },
    {
     "data": {
      "image/png": "[encoded data removed]",
      "text/plain": [
       "plot without title"
      ]
     },
     "metadata": {},
     "output_type": "display_data"
    }
   ],
   "source": [
    "# Plot each grid point, coloured by the class (1 is black, 2 is red, 3 is green)\n",
    "\n",
    "plot2 <- ggplot() +\n",
    "geom_point(data=lda_grid, aes(x=lda_grid$x1,y=lda_grid$x2,col=factor(lda_grid$class)),pch=1,alpha=0.3) +\n",
    "geom_point(data=lda_data, aes(x=lda_data$x1,y=lda_data$x2,col=factor(lda_data$class)),pch=17) +\n",
    "xlab('X1') +\n",
    "ylab('X2') +\n",
    "ggtitle(\"LDA Classifier\") +\n",
    "scale_x_continuous(breaks = round(seq(min(lda_grid$x1), max(lda_grid$x1), by = 1),1)) +\n",
    "scale_y_continuous(breaks = round(seq(min(lda_grid$x2), max(lda_grid$x2), by = 0.5),1)) +\n",
    "scale_colour_identity(\"LDA Data\",labels = c(\"Class 1\",\"Class 2\",\"Class 3\"),\n",
    "                      guide = \"legend\")\n",
    "\n",
    "plot2"
   ]
  },
  {
   "cell_type": "code",
   "execution_count": 643,
   "metadata": {},
   "outputs": [
    {
     "name": "stderr",
     "output_type": "stream",
     "text": [
      "Installing package into 'C:/Users/shett/Documents/R/win-library/3.5'\n",
      "(as 'lib' is unspecified)\n"
     ]
    },
    {
     "ename": "ERROR",
     "evalue": "Error in contrib.url(repos, \"source\"): trying to use CRAN without setting a mirror\n",
     "output_type": "error",
     "traceback": [
      "Error in contrib.url(repos, \"source\"): trying to use CRAN without setting a mirror\nTraceback:\n",
      "1. install.packages(\"gridExtra\")",
      "2. contrib.url(repos, \"source\")",
      "3. stop(\"trying to use CRAN without setting a mirror\")"
     ]
    }
   ],
   "source": [
    "install.packages(\"gridExtra\")"
   ]
  },
  {
   "cell_type": "code",
   "execution_count": 644,
   "metadata": {},
   "outputs": [],
   "source": [
    "library(gridExtra)"
   ]
  },
  {
   "cell_type": "code",
   "execution_count": 645,
   "metadata": {},
   "outputs": [
    {
     "data": {
      "image/png": "[encoded data removed]",
      "text/plain": [
       "plot without title"
      ]
     },
     "metadata": {},
     "output_type": "display_data"
    }
   ],
   "source": [
    "grid.arrange(plot1,plot2,nrow=1)"
   ]
  },
  {
   "cell_type": "markdown",
   "metadata": {},
   "source": [
    "The LDA classifier is a good approximation for the Bayes classifier on the simulated training set. Based on the plotted observation alone it looks like the LDA and the Bayes classifier have similar performances on the training data set."
   ]
  },
  {
   "cell_type": "markdown",
   "metadata": {},
   "source": [
    "#### Calculated the confusion matrix and training error rate"
   ]
  },
  {
   "cell_type": "code",
   "execution_count": 646,
   "metadata": {},
   "outputs": [
    {
     "data": {
      "text/plain": [
       "   \n",
       "     1  2  3\n",
       "  1 48  1  2\n",
       "  2  2 49  0\n",
       "  3  0  0 48"
      ]
     },
     "metadata": {},
     "output_type": "display_data"
    }
   ],
   "source": [
    "#Calculate the training error\n",
    "table(predict(lda_classifier,lda_data)$class,lda_data$class)"
   ]
  },
  {
   "cell_type": "markdown",
   "metadata": {},
   "source": [
    "The number of misclassified observations are 5. Hence the training error rate in this case is 5/150 or 3.33%"
   ]
  },
  {
   "cell_type": "markdown",
   "metadata": {},
   "source": [
    "#### Generated test data and calculated the confusion matrix and test error rate."
   ]
  },
  {
   "cell_type": "code",
   "execution_count": 647,
   "metadata": {},
   "outputs": [],
   "source": [
    "\n",
    "N <- 50 # Number of random samples\n",
    "set.seed(986725354)\n",
    "\n",
    "#Test distributions\n",
    "test_bvn1 <- rmvnorm(N, mean = m1, sigma = cvm )\n",
    "test_bvn2 <- rmvnorm(N, mean = m2, sigma = cvm )\n",
    "test_bvn3 <- rmvnorm(N, mean = m3, sigma = cvm )\n",
    "\n",
    "colnames(test_bvn1) <- c(\"x1\",\"x2\")\n",
    "colnames(test_bvn2) <- c(\"x1\",\"x2\")\n",
    "colnames(test_bvn3) <- c(\"x1\",\"x2\")\n",
    "\n",
    "#assign classes to test data\n",
    "test_df1 <- data.frame(test_bvn1)\n",
    "test_df1$class <- 1\n",
    "test_df2 <- data.frame(test_bvn2)\n",
    "test_df2$class <- 2\n",
    "test_df3 <- data.frame(test_bvn3)\n",
    "test_df3$class <- 3\n",
    "\n",
    "#combine all test data into a single dataframe\n",
    "test_data <- test_df1\n",
    "test_data <- rbind(test_data,test_df2)\n",
    "test_data <- rbind(test_data,test_df3)"
   ]
  },
  {
   "cell_type": "code",
   "execution_count": 648,
   "metadata": {},
   "outputs": [
    {
     "data": {
      "text/plain": [
       "   \n",
       "     1  2  3\n",
       "  1 49  2  6\n",
       "  2  0 48  0\n",
       "  3  1  0 44"
      ]
     },
     "metadata": {},
     "output_type": "display_data"
    }
   ],
   "source": [
    "#create test data confusion matrix\n",
    "table(predict(lda_classifier,test_data)$class,test_data$class)"
   ]
  },
  {
   "cell_type": "markdown",
   "metadata": {},
   "source": [
    "The number of misclassified observations are 9. Hence the test error rate in this case is 9/150 or 6%"
   ]
  },
  {
   "cell_type": "markdown",
   "metadata": {},
   "source": [
    "The training and test error rates are 3.33% and 6% respectively. Overall the error rates are small and we can conclude that the LDA classifier is performing well on both the training and test datasets."
   ]
  },
  {
   "cell_type": "markdown",
   "metadata": {},
   "source": [
    "#### Fitted a quadratic discriminant analysis model to the training data above, and made a plot that displays the observations as well as the QDA decision boundary (or boundaries) corresponding to this plotted model."
   ]
  },
  {
   "cell_type": "code",
   "execution_count": 649,
   "metadata": {
    "scrolled": false
   },
   "outputs": [
    {
     "data": {
      "text/plain": [
       "Call:\n",
       "qda(class ~ x1 + x2, data = qda_data)\n",
       "\n",
       "Prior probabilities of groups:\n",
       "        1         2         3 \n",
       "0.3333333 0.3333333 0.3333333 \n",
       "\n",
       "Group means:\n",
       "         x1         x2\n",
       "1 0.6104964  0.5703154\n",
       "2 2.9011168  2.8837896\n",
       "3 3.2816609 -2.0407307"
      ]
     },
     "metadata": {},
     "output_type": "display_data"
    }
   ],
   "source": [
    "#build and train the qda classifier\n",
    "qda_data <- lda_data\n",
    "qda_classifier <- qda(class∼x1+x2 ,data=qda_data)\n",
    "qda_classifier"
   ]
  },
  {
   "cell_type": "code",
   "execution_count": 650,
   "metadata": {},
   "outputs": [],
   "source": [
    "# Set up grid over x in [-5, 10] in both directions\n",
    "qda_x1 = seq(-5,10 , 0.1)\n",
    "qda_x2 = x1\n",
    "qda_grid = expand.grid(qda_x1,qda_x2)\n",
    "names(qda_grid) = c(\"x1\",\"x2\")\n",
    "\n",
    "# Class = 1 or 2 or 3\n",
    "qda_grid$class <- predict(qda_classifier,qda_grid)$class"
   ]
  },
  {
   "cell_type": "code",
   "execution_count": 651,
   "metadata": {},
   "outputs": [
    {
     "data": {},
     "metadata": {},
     "output_type": "display_data"
    },
    {
     "data": {
      "image/png": "[encoded data removed]",
      "text/plain": [
       "plot without title"
      ]
     },
     "metadata": {},
     "output_type": "display_data"
    }
   ],
   "source": [
    "# Plot each grid point, coloured by the class (1 is black, 2 is red, 3 is green)\n",
    "\n",
    "plot3 <- ggplot() +\n",
    "geom_point(data=qda_grid, aes(x=qda_grid$x1,y=qda_grid$x2,col=factor(qda_grid$class)),pch=1,alpha=0.3) +\n",
    "geom_point(data=qda_data, aes(x=qda_data$x1,y=qda_data$x2,col=factor(qda_data$class)),pch=17) +\n",
    "xlab('X1') +\n",
    "ylab('X2') +\n",
    "ggtitle(\"QDA Classifier\") +\n",
    "scale_x_continuous(breaks = round(seq(min(qda_grid$x1), max(qda_grid$x1), by = 1),1)) +\n",
    "scale_y_continuous(breaks = round(seq(min(qda_grid$x2), max(qda_grid$x2), by = 0.5),1)) +\n",
    "scale_colour_identity(\"qda Data\",labels = c(\"Class 1\",\"Class 2\",\"Class 3\"),\n",
    "                      guide = \"legend\")\n",
    "\n",
    "plot3"
   ]
  },
  {
   "cell_type": "code",
   "execution_count": 652,
   "metadata": {},
   "outputs": [
    {
     "data": {
      "image/png": "[encoded data removed]",
      "text/plain": [
       "plot without title"
      ]
     },
     "metadata": {},
     "output_type": "display_data"
    }
   ],
   "source": [
    "grid.arrange(plot1,plot3,nrow=1)"
   ]
  },
  {
   "cell_type": "markdown",
   "metadata": {},
   "source": [
    "In the above case the QDA classifier does not approximate the Bayes decision boundary as well as the LDA classifier. Infact the QDA decision boundary suffers from higher variance without a corresponding decrease in bias. Hence its performance is worse. "
   ]
  },
  {
   "cell_type": "markdown",
   "metadata": {},
   "source": [
    "#### Calculated the K x K confusion matrix for the QDA model on the training data, as well as the training error rate."
   ]
  },
  {
   "cell_type": "code",
   "execution_count": 653,
   "metadata": {},
   "outputs": [
    {
     "data": {
      "text/plain": [
       "   \n",
       "     1  2  3\n",
       "  1 48  1  2\n",
       "  2  2 49  0\n",
       "  3  0  0 48"
      ]
     },
     "metadata": {},
     "output_type": "display_data"
    }
   ],
   "source": [
    "#Calculate the training error\n",
    "table(predict(qda_classifier,qda_data)$class,qda_data$class)"
   ]
  },
  {
   "cell_type": "markdown",
   "metadata": {},
   "source": [
    "The number of misclassified observations are 5. Hence the training error rate in this case is 5/150 or 3.33%"
   ]
  },
  {
   "cell_type": "markdown",
   "metadata": {},
   "source": [
    "#### Calculated the K x K confusion matrix for the QDA model on the test data, as well as the test error rate."
   ]
  },
  {
   "cell_type": "code",
   "execution_count": 654,
   "metadata": {},
   "outputs": [
    {
     "data": {
      "text/plain": [
       "   \n",
       "     1  2  3\n",
       "  1 49  4  6\n",
       "  2  0 46  0\n",
       "  3  1  0 44"
      ]
     },
     "metadata": {},
     "output_type": "display_data"
    }
   ],
   "source": [
    "#create test data confusion matrix\n",
    "table(predict(qda_classifier,test_data)$class,test_data$class)"
   ]
  },
  {
   "cell_type": "markdown",
   "metadata": {},
   "source": [
    "The number of misclassified observations are 11. Hence the test error rate in this case is 11/150 or 7.33%"
   ]
  },
  {
   "cell_type": "markdown",
   "metadata": {},
   "source": [
    "The training and test error rates are 3.33% and 7.33% respectively. The test error rate is higher than the training error rate which was expected. "
   ]
  },
  {
   "cell_type": "markdown",
   "metadata": {},
   "source": [
    "Both the LDA and QDA classifiers had the same training error rate of 3.33%"
   ]
  },
  {
   "cell_type": "markdown",
   "metadata": {},
   "source": [
    "The QDA classifier has a larger error rate than the LDA classifier: 7.33% for QDA vs 6% for LDA."
   ]
  },
  {
   "cell_type": "markdown",
   "metadata": {},
   "source": [
    "#### Generated data such the classes now follow a different covariance matrix for all three classes."
   ]
  },
  {
   "cell_type": "code",
   "execution_count": 657,
   "metadata": {},
   "outputs": [],
   "source": [
    "\n",
    "nsample <- 50 # Number of random samples\n",
    "set.seed(699)\n",
    "## Covariance matrix \n",
    "var1 <- 1\n",
    "cvm1 <- matrix(c(var1, 0, 0, var1),2) # Covariance matrix\n",
    "\n",
    "var2 <- 1\n",
    "cvm2 <- matrix(c(var2, 0, 0, var2),2) # Covariance matrix\n",
    "\n",
    "var3 <- 1\n",
    "var4 <- 2\n",
    "cvm3 <- matrix(c(var3, 0, 0, var4),2) # Covariance matrix\n",
    "\n",
    "### Distribution 1\n",
    "# Target parameters for bivariate normal distributions\n",
    "mu11 <- 0.5\n",
    "mu12 <- 0.5\n",
    "# Parameters for bivariate normal distribution\n",
    "mu1 <- c(mu11,mu12) # Mean \n",
    "\n",
    "### Distribution 2\n",
    "# Target parameters for bivariate normal distributions\n",
    "mu21 <- 3\n",
    "mu22 <- 3\n",
    "# Parameters for bivariate normal distribution\n",
    "mu2 <- c(mu21,mu22) # Mean \n",
    "\n",
    "### Distribution 3\n",
    "# Target parameters for bivariate normal distributions\n",
    "mu31 <- 4\n",
    "mu32 <- -2\n",
    "# Parameters for bivariate normal distribution\n",
    "mu3 <- c(mu31,mu32) # Mean "
   ]
  },
  {
   "cell_type": "code",
   "execution_count": 658,
   "metadata": {},
   "outputs": [],
   "source": [
    "bivn1 <- rmvnorm(nsample, mean = mu1, sigma = cvm1 )\n",
    "bivn2 <- rmvnorm(nsample, mean = mu2, sigma = cvm2 )\n",
    "bivn3 <- rmvnorm(nsample, mean = mu3, sigma = cvm3 )\n",
    "\n",
    "colnames(bivn1) <- c(\"x1\",\"x2\")\n",
    "colnames(bivn2) <- c(\"x1\",\"x2\")\n",
    "colnames(bivn3) <- c(\"x1\",\"x2\")\n",
    "\n",
    "dfr1 <- data.frame(bivn1)\n",
    "dfr2 <- data.frame(bivn2)\n",
    "dfr3 <- data.frame(bivn3)"
   ]
  },
  {
   "cell_type": "markdown",
   "metadata": {},
   "source": [
    "The covariance matrix for classes K=1,2,3 are 2x2 matrices with values \n",
    "\\begin{array}{cc}\n",
    "   1 & 0 \\\\\n",
    "   0 & 1 \\\\\n",
    "  \\end{array}\n",
    "  \n",
    "  \\begin{array}{cc}\n",
    "   1 & 0 \\\\\n",
    "   0 & 1 \\\\\n",
    "  \\end{array}\n",
    "  \n",
    "  \\begin{array}{cc}\n",
    "   1 & 0 \\\\\n",
    "   0 & 2 \\\\\n",
    "  \\end{array}"
   ]
  },
  {
   "cell_type": "markdown",
   "metadata": {},
   "source": [
    "The means for variables X1 and X2 for classes K=1,2,3 are {0.5,0.5} {3,3} and {4,-2} respectively."
   ]
  },
  {
   "cell_type": "markdown",
   "metadata": {},
   "source": [
    "#### Plotted the Bayes decision boundary on this data."
   ]
  },
  {
   "cell_type": "code",
   "execution_count": 659,
   "metadata": {},
   "outputs": [],
   "source": [
    "# Set up grid over x in [-5, 10] in both directions\n",
    "x1 = seq(-10,10 , 0.1)\n",
    "x2 = x1\n",
    "grid = expand.grid(x1,x2)\n",
    "names(grid) = c(\"x1\",\"x2\")\n",
    "\n",
    "# Compute densities over grid, classify using maximum density \n",
    "den1 = apply(grid, 1, function(x) dmvnorm(as.numeric(x), mean = mu1))\n",
    "den2 = apply(grid, 1, function(x) dmvnorm(as.numeric(x), mean = mu2))\n",
    "den3 = apply(grid, 1, function(x) dmvnorm(as.numeric(x), mean = mu3))\n",
    "\n",
    "# Class = 1 or 2 or 3\n",
    "grid$class = sapply(1:nrow(grid), function(x) which.max(c(den1[x], den2[x], den3[x])))"
   ]
  },
  {
   "cell_type": "code",
   "execution_count": 660,
   "metadata": {},
   "outputs": [
    {
     "data": {},
     "metadata": {},
     "output_type": "display_data"
    },
    {
     "data": {
      "image/png": "[encoded data removed]",
      "text/plain": [
       "plot without title"
      ]
     },
     "metadata": {},
     "output_type": "display_data"
    }
   ],
   "source": [
    "# Plot each grid point, coloured by the class (1 is black, 2 is red, 3 is green)\n",
    "plot1 <- ggplot() +\n",
    "geom_point(data=grid, aes(x=grid$x1,y=grid$x2,col=factor(grid$class)),pch=1,alpha=0.3) +\n",
    "geom_point(data=dfr1, aes(x=dfr1$x1,y=dfr1$x2),col='black',pch=17) +\n",
    "geom_point(data=dfr2, aes(x=dfr2$x1,y=dfr2$x2),col='red',pch=17) +\n",
    "geom_point(data=dfr3, aes(x=dfr3$x1,y=dfr3$x2),col='darkgreen',pch=17) +\n",
    "xlab('X1') +\n",
    "ylab('X2') +\n",
    "ggtitle(\"Bayes Classifier\") +\n",
    "scale_x_continuous(breaks = round(seq(min(grid$x1), max(grid$x1), by = 1),1)) +\n",
    "scale_y_continuous(breaks = round(seq(min(grid$x2), max(grid$x2), by = 0.5),1)) +\n",
    "scale_colour_identity(\"Regions\", labels = c(\"Class 1\",\"Class 2\",\"Class 3\"),guide = \"legend\")\n",
    "\n",
    "plot1"
   ]
  },
  {
   "cell_type": "markdown",
   "metadata": {},
   "source": [
    "#### Fitted both LDA and QDA classifiers to this data and plotted my observations. Compared both training and test error rates (on generated test data) across both classifiers. "
   ]
  },
  {
   "cell_type": "code",
   "execution_count": 661,
   "metadata": {},
   "outputs": [],
   "source": [
    "## Add classes to the individual bivariate normal distribution dataframes\n",
    "dfr1_lda <- dfr1\n",
    "dfr2_lda <- dfr2\n",
    "dfr3_lda <- dfr3\n",
    "\n",
    "dfr1_lda$class <- 1\n",
    "dfr2_lda$class <- 2\n",
    "dfr3_lda$class <- 3\n",
    "\n",
    "## Combine seperate data frames into one class for training the LDA classifier\n",
    "tot_lda_data <- dfr1_lda\n",
    "tot_lda_data <- rbind(tot_lda_data,dfr2_lda)\n",
    "tot_lda_data <- rbind(tot_lda_data,dfr3_lda)"
   ]
  },
  {
   "cell_type": "code",
   "execution_count": 662,
   "metadata": {
    "scrolled": false
   },
   "outputs": [
    {
     "data": {
      "text/plain": [
       "Call:\n",
       "lda(class ~ x1 + x2, data = tot_lda_data)\n",
       "\n",
       "Prior probabilities of groups:\n",
       "        1         2         3 \n",
       "0.3333333 0.3333333 0.3333333 \n",
       "\n",
       "Group means:\n",
       "        x1         x2\n",
       "1 0.374159  0.4263395\n",
       "2 3.165276  2.8774907\n",
       "3 4.013063 -2.1184392\n",
       "\n",
       "Coefficients of linear discriminants:\n",
       "          LD1        LD2\n",
       "x1  0.4929440 -0.8059361\n",
       "x2 -0.6861842 -0.4252578\n",
       "\n",
       "Proportion of trace:\n",
       "   LD1    LD2 \n",
       "0.6266 0.3734 "
      ]
     },
     "metadata": {},
     "output_type": "display_data"
    }
   ],
   "source": [
    "#build and train the lda classifier\n",
    "lda_classifier <- lda(class∼x1+x2 ,data=tot_lda_data)\n",
    "lda_classifier"
   ]
  },
  {
   "cell_type": "code",
   "execution_count": 663,
   "metadata": {},
   "outputs": [
    {
     "data": {
      "text/plain": [
       "Call:\n",
       "qda(class ~ x1 + x2, data = tot_qda_data)\n",
       "\n",
       "Prior probabilities of groups:\n",
       "        1         2         3 \n",
       "0.3333333 0.3333333 0.3333333 \n",
       "\n",
       "Group means:\n",
       "        x1         x2\n",
       "1 0.374159  0.4263395\n",
       "2 3.165276  2.8774907\n",
       "3 4.013063 -2.1184392"
      ]
     },
     "metadata": {},
     "output_type": "display_data"
    }
   ],
   "source": [
    "#build and train the lda classifier\n",
    "tot_qda_data <- tot_lda_data\n",
    "qda_classifier <- qda(class∼x1+x2 ,data=tot_qda_data)\n",
    "qda_classifier"
   ]
  },
  {
   "cell_type": "code",
   "execution_count": 664,
   "metadata": {},
   "outputs": [],
   "source": [
    "# Set up grid over x in [-5, 10] in both directions\n",
    "combined_x1 = seq(-10,10 , 0.1)\n",
    "combined_x2 = combined_x1\n",
    "combined_grid = expand.grid(combined_x1,combined_x2)\n",
    "names(combined_grid) = c(\"x1\",\"x2\")\n",
    "\n",
    "# Class = 1 or 2 or 3\n",
    "#combined_grid$class <- predict(lda_classifier,lda_grid)$class"
   ]
  },
  {
   "cell_type": "code",
   "execution_count": 665,
   "metadata": {},
   "outputs": [
    {
     "data": {},
     "metadata": {},
     "output_type": "display_data"
    },
    {
     "data": {
      "image/png": "[encoded data removed]",
      "text/plain": [
       "plot without title"
      ]
     },
     "metadata": {},
     "output_type": "display_data"
    }
   ],
   "source": [
    "# Plot each grid point, coloured by the class (1 is black, 2 is red, 3 is green)\n",
    "\n",
    "plot2 <- ggplot() +\n",
    "geom_point(data=tot_lda_data, aes(x=tot_lda_data$x1,y=tot_lda_data$x2,col=factor(tot_lda_data$class)),pch=17) +\n",
    "geom_contour(data=combined_grid,aes(x=combined_grid$x1,y=combined_grid$x2,z=as.numeric(predict(lda_classifier,combined_grid)$class)),color=\"red\")+\n",
    "geom_contour(data=combined_grid,aes(x=combined_grid$x1,y=combined_grid$x2,z=as.numeric(predict(qda_classifier,combined_grid)$class)),color=\"blue\")+\n",
    "xlab('X1') +\n",
    "ylab('X2') +\n",
    "ggtitle(\"LDA Classifier\") +\n",
    "scale_x_continuous(breaks = round(seq(min(combined_grid$x1), max(combined_grid$x1), by = 1),1)) +\n",
    "scale_y_continuous(breaks = round(seq(min(combined_grid$x2), max(combined_grid$x2), by = 0.5),1)) +\n",
    "scale_colour_identity(\"Classes\",labels = c(\"Class 1\",\"Class 2\",\"Class 3\"),\n",
    "                      guide = \"legend\")\n",
    "\n",
    "plot2"
   ]
  },
  {
   "cell_type": "code",
   "execution_count": 666,
   "metadata": {},
   "outputs": [
    {
     "data": {
      "text/plain": [
       "   \n",
       "     1  2  3\n",
       "  1 46  2  1\n",
       "  2  1 48  2\n",
       "  3  3  0 47"
      ]
     },
     "metadata": {},
     "output_type": "display_data"
    }
   ],
   "source": [
    "#Calculate the training error\n",
    "table(predict(lda_classifier,tot_lda_data)$class,tot_lda_data$class)"
   ]
  },
  {
   "cell_type": "markdown",
   "metadata": {},
   "source": [
    "The number of misclassified observations are 9. Hence the training error rate in this case is 9/150 or 6%"
   ]
  },
  {
   "cell_type": "code",
   "execution_count": 667,
   "metadata": {},
   "outputs": [
    {
     "data": {
      "text/plain": [
       "   \n",
       "     1  2  3\n",
       "  1 46  1  1\n",
       "  2  1 48  0\n",
       "  3  3  1 49"
      ]
     },
     "metadata": {},
     "output_type": "display_data"
    }
   ],
   "source": [
    "#Calculate the training error\n",
    "table(predict(qda_classifier,tot_qda_data)$class,tot_qda_data$class)"
   ]
  },
  {
   "cell_type": "markdown",
   "metadata": {},
   "source": [
    "The number of misclassified observations are 7. Hence the training error rate in this case is 7/150 or 4.7%"
   ]
  },
  {
   "cell_type": "code",
   "execution_count": 668,
   "metadata": {},
   "outputs": [],
   "source": [
    "\n",
    "N <- 50 # Number of random samples\n",
    "set.seed(650)\n",
    "\n",
    "#Test distributions\n",
    "test_bvn1 <- rmvnorm(N, mean = mu1, sigma = cvm1 )\n",
    "test_bvn2 <- rmvnorm(N, mean = mu2, sigma = cvm2 )\n",
    "test_bvn3 <- rmvnorm(N, mean = mu3, sigma = cvm3 )\n",
    "\n",
    "colnames(test_bvn1) <- c(\"x1\",\"x2\")\n",
    "colnames(test_bvn2) <- c(\"x1\",\"x2\")\n",
    "colnames(test_bvn3) <- c(\"x1\",\"x2\")\n",
    "\n",
    "#assign classes to test data\n",
    "test_dfr1 <- data.frame(test_bvn1)\n",
    "test_dfr1$class <- 1\n",
    "test_dfr2 <- data.frame(test_bvn2)\n",
    "test_dfr2$class <- 2\n",
    "test_dfr3 <- data.frame(test_bvn3)\n",
    "test_dfr3$class <- 3\n",
    "\n",
    "#combine all test data into a single dataframe\n",
    "com_test_data <- test_dfr1\n",
    "com_test_data <- rbind(com_test_data,test_dfr2)\n",
    "com_test_data <- rbind(com_test_data,test_dfr3)"
   ]
  },
  {
   "cell_type": "code",
   "execution_count": 669,
   "metadata": {},
   "outputs": [
    {
     "data": {
      "text/plain": [
       "   \n",
       "     1  2  3\n",
       "  1 46  3  1\n",
       "  2  2 47  2\n",
       "  3  2  0 47"
      ]
     },
     "metadata": {},
     "output_type": "display_data"
    }
   ],
   "source": [
    "#create test data confusion matrix\n",
    "table(predict(lda_classifier,com_test_data)$class,com_test_data$class)"
   ]
  },
  {
   "cell_type": "markdown",
   "metadata": {},
   "source": [
    "The number of misclassified observations are 10. Hence the test error rate in this case is 10/150 or 6.7%"
   ]
  },
  {
   "cell_type": "code",
   "execution_count": 670,
   "metadata": {},
   "outputs": [
    {
     "data": {
      "text/plain": [
       "   \n",
       "     1  2  3\n",
       "  1 46  2  1\n",
       "  2  2 48  1\n",
       "  3  2  0 48"
      ]
     },
     "metadata": {},
     "output_type": "display_data"
    }
   ],
   "source": [
    "#create test data confusion matrix\n",
    "table(predict(qda_classifier,com_test_data)$class,com_test_data$class)"
   ]
  },
  {
   "cell_type": "markdown",
   "metadata": {},
   "source": [
    "The number of misclassified observations are 8. Hence the test error rate in this case is 8/150 or 5.33%"
   ]
  },
  {
   "cell_type": "markdown",
   "metadata": {},
   "source": [
    "The training error rates for LDA and QDA are 6% and 4.7% respectively. Hence the QDA classifier is performing better on the training set."
   ]
  },
  {
   "cell_type": "markdown",
   "metadata": {},
   "source": [
    "The training error rates for LDA and QDA are 6.7% and 5.33% respectively. Hence the QDA classifier is performing better on the test set."
   ]
  },
  {
   "cell_type": "markdown",
   "metadata": {},
   "source": [
    "## Solution 4"
   ]
  },
  {
   "cell_type": "code",
   "execution_count": 675,
   "metadata": {},
   "outputs": [
    {
     "name": "stderr",
     "output_type": "stream",
     "text": [
      "Installing package into 'C:/Users/shett/Documents/R/win-library/3.5'\n",
      "(as 'lib' is unspecified)\n"
     ]
    },
    {
     "ename": "ERROR",
     "evalue": "Error in contrib.url(repos, \"source\"): trying to use CRAN without setting a mirror\n",
     "output_type": "error",
     "traceback": [
      "Error in contrib.url(repos, \"source\"): trying to use CRAN without setting a mirror\nTraceback:\n",
      "1. install.packages(\"ISLR\")",
      "2. contrib.url(repos, \"source\")",
      "3. stop(\"trying to use CRAN without setting a mirror\")"
     ]
    }
   ],
   "source": [
    "install.packages(\"ISLR\")"
   ]
  },
  {
   "cell_type": "code",
   "execution_count": 676,
   "metadata": {},
   "outputs": [],
   "source": [
    "library(\"ISLR\")"
   ]
  },
  {
   "cell_type": "code",
   "execution_count": 677,
   "metadata": {},
   "outputs": [
    {
     "data": {
      "text/html": [
       "<table>\n",
       "<thead><tr><th scope=col>X</th><th scope=col>Age</th><th scope=col>Sex</th><th scope=col>ChestPain</th><th scope=col>RestBP</th><th scope=col>Chol</th><th scope=col>Fbs</th><th scope=col>RestECG</th><th scope=col>MaxHR</th><th scope=col>ExAng</th><th scope=col>Oldpeak</th><th scope=col>Slope</th><th scope=col>Ca</th><th scope=col>Thal</th><th scope=col>AHD</th></tr></thead>\n",
       "<tbody>\n",
       "\t<tr><td>1           </td><td>63          </td><td>1           </td><td>typical     </td><td>145         </td><td>233         </td><td>1           </td><td>2           </td><td>150         </td><td>0           </td><td>2.3         </td><td>3           </td><td>0           </td><td>fixed       </td><td>No          </td></tr>\n",
       "\t<tr><td>2           </td><td>67          </td><td>1           </td><td>asymptomatic</td><td>160         </td><td>286         </td><td>0           </td><td>2           </td><td>108         </td><td>1           </td><td>1.5         </td><td>2           </td><td>3           </td><td>normal      </td><td>Yes         </td></tr>\n",
       "\t<tr><td>3           </td><td>67          </td><td>1           </td><td>asymptomatic</td><td>120         </td><td>229         </td><td>0           </td><td>2           </td><td>129         </td><td>1           </td><td>2.6         </td><td>2           </td><td>2           </td><td>reversable  </td><td>Yes         </td></tr>\n",
       "\t<tr><td>4           </td><td>37          </td><td>1           </td><td>nonanginal  </td><td>130         </td><td>250         </td><td>0           </td><td>0           </td><td>187         </td><td>0           </td><td>3.5         </td><td>3           </td><td>0           </td><td>normal      </td><td>No          </td></tr>\n",
       "\t<tr><td>5           </td><td>41          </td><td>0           </td><td>nontypical  </td><td>130         </td><td>204         </td><td>0           </td><td>2           </td><td>172         </td><td>0           </td><td>1.4         </td><td>1           </td><td>0           </td><td>normal      </td><td>No          </td></tr>\n",
       "</tbody>\n",
       "</table>\n"
      ],
      "text/latex": [
       "\\begin{tabular}{r|lllllllllllllll}\n",
       " X & Age & Sex & ChestPain & RestBP & Chol & Fbs & RestECG & MaxHR & ExAng & Oldpeak & Slope & Ca & Thal & AHD\\\\\n",
       "\\hline\n",
       "\t 1            & 63           & 1            & typical      & 145          & 233          & 1            & 2            & 150          & 0            & 2.3          & 3            & 0            & fixed        & No          \\\\\n",
       "\t 2            & 67           & 1            & asymptomatic & 160          & 286          & 0            & 2            & 108          & 1            & 1.5          & 2            & 3            & normal       & Yes         \\\\\n",
       "\t 3            & 67           & 1            & asymptomatic & 120          & 229          & 0            & 2            & 129          & 1            & 2.6          & 2            & 2            & reversable   & Yes         \\\\\n",
       "\t 4            & 37           & 1            & nonanginal   & 130          & 250          & 0            & 0            & 187          & 0            & 3.5          & 3            & 0            & normal       & No          \\\\\n",
       "\t 5            & 41           & 0            & nontypical   & 130          & 204          & 0            & 2            & 172          & 0            & 1.4          & 1            & 0            & normal       & No          \\\\\n",
       "\\end{tabular}\n"
      ],
      "text/markdown": [
       "\n",
       "X | Age | Sex | ChestPain | RestBP | Chol | Fbs | RestECG | MaxHR | ExAng | Oldpeak | Slope | Ca | Thal | AHD | \n",
       "|---|---|---|---|---|\n",
       "| 1            | 63           | 1            | typical      | 145          | 233          | 1            | 2            | 150          | 0            | 2.3          | 3            | 0            | fixed        | No           | \n",
       "| 2            | 67           | 1            | asymptomatic | 160          | 286          | 0            | 2            | 108          | 1            | 1.5          | 2            | 3            | normal       | Yes          | \n",
       "| 3            | 67           | 1            | asymptomatic | 120          | 229          | 0            | 2            | 129          | 1            | 2.6          | 2            | 2            | reversable   | Yes          | \n",
       "| 4            | 37           | 1            | nonanginal   | 130          | 250          | 0            | 0            | 187          | 0            | 3.5          | 3            | 0            | normal       | No           | \n",
       "| 5            | 41           | 0            | nontypical   | 130          | 204          | 0            | 2            | 172          | 0            | 1.4          | 1            | 0            | normal       | No           | \n",
       "\n",
       "\n"
      ],
      "text/plain": [
       "  X Age Sex ChestPain    RestBP Chol Fbs RestECG MaxHR ExAng Oldpeak Slope Ca\n",
       "1 1 63  1   typical      145    233  1   2       150   0     2.3     3     0 \n",
       "2 2 67  1   asymptomatic 160    286  0   2       108   1     1.5     2     3 \n",
       "3 3 67  1   asymptomatic 120    229  0   2       129   1     2.6     2     2 \n",
       "4 4 37  1   nonanginal   130    250  0   0       187   0     3.5     3     0 \n",
       "5 5 41  0   nontypical   130    204  0   2       172   0     1.4     1     0 \n",
       "  Thal       AHD\n",
       "1 fixed      No \n",
       "2 normal     Yes\n",
       "3 reversable Yes\n",
       "4 normal     No \n",
       "5 normal     No "
      ]
     },
     "metadata": {},
     "output_type": "display_data"
    }
   ],
   "source": [
    "heart <- read.csv(\"Heart.csv\")\n",
    "head(heart,5)"
   ]
  },
  {
   "cell_type": "code",
   "execution_count": 678,
   "metadata": {},
   "outputs": [
    {
     "data": {
      "text/plain": [
       "       X              Age             Sex                ChestPain  \n",
       " Min.   :  1.0   Min.   :29.00   Min.   :0.0000   asymptomatic:144  \n",
       " 1st Qu.: 76.5   1st Qu.:48.00   1st Qu.:0.0000   nonanginal  : 86  \n",
       " Median :152.0   Median :56.00   Median :1.0000   nontypical  : 50  \n",
       " Mean   :152.0   Mean   :54.44   Mean   :0.6799   typical     : 23  \n",
       " 3rd Qu.:227.5   3rd Qu.:61.00   3rd Qu.:1.0000                     \n",
       " Max.   :303.0   Max.   :77.00   Max.   :1.0000                     \n",
       "                                                                    \n",
       "     RestBP           Chol            Fbs            RestECG      \n",
       " Min.   : 94.0   Min.   :126.0   Min.   :0.0000   Min.   :0.0000  \n",
       " 1st Qu.:120.0   1st Qu.:211.0   1st Qu.:0.0000   1st Qu.:0.0000  \n",
       " Median :130.0   Median :241.0   Median :0.0000   Median :1.0000  \n",
       " Mean   :131.7   Mean   :246.7   Mean   :0.1485   Mean   :0.9901  \n",
       " 3rd Qu.:140.0   3rd Qu.:275.0   3rd Qu.:0.0000   3rd Qu.:2.0000  \n",
       " Max.   :200.0   Max.   :564.0   Max.   :1.0000   Max.   :2.0000  \n",
       "                                                                  \n",
       "     MaxHR           ExAng           Oldpeak         Slope      \n",
       " Min.   : 71.0   Min.   :0.0000   Min.   :0.00   Min.   :1.000  \n",
       " 1st Qu.:133.5   1st Qu.:0.0000   1st Qu.:0.00   1st Qu.:1.000  \n",
       " Median :153.0   Median :0.0000   Median :0.80   Median :2.000  \n",
       " Mean   :149.6   Mean   :0.3267   Mean   :1.04   Mean   :1.601  \n",
       " 3rd Qu.:166.0   3rd Qu.:1.0000   3rd Qu.:1.60   3rd Qu.:2.000  \n",
       " Max.   :202.0   Max.   :1.0000   Max.   :6.20   Max.   :3.000  \n",
       "                                                                \n",
       "       Ca                 Thal      AHD     \n",
       " Min.   :0.0000   fixed     : 18   No :164  \n",
       " 1st Qu.:0.0000   normal    :166   Yes:139  \n",
       " Median :0.0000   reversable:117            \n",
       " Mean   :0.6722   NA's      :  2            \n",
       " 3rd Qu.:1.0000                             \n",
       " Max.   :3.0000                             \n",
       " NA's   :4                                  "
      ]
     },
     "metadata": {},
     "output_type": "display_data"
    }
   ],
   "source": [
    "summary(heart)"
   ]
  },
  {
   "cell_type": "code",
   "execution_count": 679,
   "metadata": {},
   "outputs": [],
   "source": [
    "hc <- heart\n",
    "hc$ChestPain <- NULL\n",
    "hc$Thal <- NULL"
   ]
  },
  {
   "cell_type": "code",
   "execution_count": 680,
   "metadata": {},
   "outputs": [
    {
     "data": {
      "text/html": [
       "<table>\n",
       "<thead><tr><th scope=col>X</th><th scope=col>Age</th><th scope=col>Sex</th><th scope=col>RestBP</th><th scope=col>Chol</th><th scope=col>Fbs</th><th scope=col>RestECG</th><th scope=col>MaxHR</th><th scope=col>ExAng</th><th scope=col>Oldpeak</th><th scope=col>Slope</th><th scope=col>Ca</th><th scope=col>AHD</th></tr></thead>\n",
       "<tbody>\n",
       "\t<tr><td>1  </td><td>63 </td><td>1  </td><td>145</td><td>233</td><td>1  </td><td>2  </td><td>150</td><td>0  </td><td>2.3</td><td>3  </td><td>0  </td><td>No </td></tr>\n",
       "\t<tr><td>2  </td><td>67 </td><td>1  </td><td>160</td><td>286</td><td>0  </td><td>2  </td><td>108</td><td>1  </td><td>1.5</td><td>2  </td><td>3  </td><td>Yes</td></tr>\n",
       "\t<tr><td>3  </td><td>67 </td><td>1  </td><td>120</td><td>229</td><td>0  </td><td>2  </td><td>129</td><td>1  </td><td>2.6</td><td>2  </td><td>2  </td><td>Yes</td></tr>\n",
       "\t<tr><td>4  </td><td>37 </td><td>1  </td><td>130</td><td>250</td><td>0  </td><td>0  </td><td>187</td><td>0  </td><td>3.5</td><td>3  </td><td>0  </td><td>No </td></tr>\n",
       "\t<tr><td>5  </td><td>41 </td><td>0  </td><td>130</td><td>204</td><td>0  </td><td>2  </td><td>172</td><td>0  </td><td>1.4</td><td>1  </td><td>0  </td><td>No </td></tr>\n",
       "\t<tr><td>6  </td><td>56 </td><td>1  </td><td>120</td><td>236</td><td>0  </td><td>0  </td><td>178</td><td>0  </td><td>0.8</td><td>1  </td><td>0  </td><td>No </td></tr>\n",
       "</tbody>\n",
       "</table>\n"
      ],
      "text/latex": [
       "\\begin{tabular}{r|lllllllllllll}\n",
       " X & Age & Sex & RestBP & Chol & Fbs & RestECG & MaxHR & ExAng & Oldpeak & Slope & Ca & AHD\\\\\n",
       "\\hline\n",
       "\t 1   & 63  & 1   & 145 & 233 & 1   & 2   & 150 & 0   & 2.3 & 3   & 0   & No \\\\\n",
       "\t 2   & 67  & 1   & 160 & 286 & 0   & 2   & 108 & 1   & 1.5 & 2   & 3   & Yes\\\\\n",
       "\t 3   & 67  & 1   & 120 & 229 & 0   & 2   & 129 & 1   & 2.6 & 2   & 2   & Yes\\\\\n",
       "\t 4   & 37  & 1   & 130 & 250 & 0   & 0   & 187 & 0   & 3.5 & 3   & 0   & No \\\\\n",
       "\t 5   & 41  & 0   & 130 & 204 & 0   & 2   & 172 & 0   & 1.4 & 1   & 0   & No \\\\\n",
       "\t 6   & 56  & 1   & 120 & 236 & 0   & 0   & 178 & 0   & 0.8 & 1   & 0   & No \\\\\n",
       "\\end{tabular}\n"
      ],
      "text/markdown": [
       "\n",
       "X | Age | Sex | RestBP | Chol | Fbs | RestECG | MaxHR | ExAng | Oldpeak | Slope | Ca | AHD | \n",
       "|---|---|---|---|---|---|\n",
       "| 1   | 63  | 1   | 145 | 233 | 1   | 2   | 150 | 0   | 2.3 | 3   | 0   | No  | \n",
       "| 2   | 67  | 1   | 160 | 286 | 0   | 2   | 108 | 1   | 1.5 | 2   | 3   | Yes | \n",
       "| 3   | 67  | 1   | 120 | 229 | 0   | 2   | 129 | 1   | 2.6 | 2   | 2   | Yes | \n",
       "| 4   | 37  | 1   | 130 | 250 | 0   | 0   | 187 | 0   | 3.5 | 3   | 0   | No  | \n",
       "| 5   | 41  | 0   | 130 | 204 | 0   | 2   | 172 | 0   | 1.4 | 1   | 0   | No  | \n",
       "| 6   | 56  | 1   | 120 | 236 | 0   | 0   | 178 | 0   | 0.8 | 1   | 0   | No  | \n",
       "\n",
       "\n"
      ],
      "text/plain": [
       "  X Age Sex RestBP Chol Fbs RestECG MaxHR ExAng Oldpeak Slope Ca AHD\n",
       "1 1 63  1   145    233  1   2       150   0     2.3     3     0  No \n",
       "2 2 67  1   160    286  0   2       108   1     1.5     2     3  Yes\n",
       "3 3 67  1   120    229  0   2       129   1     2.6     2     2  Yes\n",
       "4 4 37  1   130    250  0   0       187   0     3.5     3     0  No \n",
       "5 5 41  0   130    204  0   2       172   0     1.4     1     0  No \n",
       "6 6 56  1   120    236  0   0       178   0     0.8     1     0  No "
      ]
     },
     "metadata": {},
     "output_type": "display_data"
    }
   ],
   "source": [
    "head(hc,6)"
   ]
  },
  {
   "cell_type": "code",
   "execution_count": 681,
   "metadata": {},
   "outputs": [
    {
     "data": {
      "text/plain": [
       "       X              Age             Sex             RestBP     \n",
       " Min.   :  1.0   Min.   :29.00   Min.   :0.0000   Min.   : 94.0  \n",
       " 1st Qu.: 76.5   1st Qu.:48.00   1st Qu.:0.0000   1st Qu.:120.0  \n",
       " Median :152.0   Median :56.00   Median :1.0000   Median :130.0  \n",
       " Mean   :152.0   Mean   :54.44   Mean   :0.6799   Mean   :131.7  \n",
       " 3rd Qu.:227.5   3rd Qu.:61.00   3rd Qu.:1.0000   3rd Qu.:140.0  \n",
       " Max.   :303.0   Max.   :77.00   Max.   :1.0000   Max.   :200.0  \n",
       "                                                                 \n",
       "      Chol            Fbs            RestECG           MaxHR      \n",
       " Min.   :126.0   Min.   :0.0000   Min.   :0.0000   Min.   : 71.0  \n",
       " 1st Qu.:211.0   1st Qu.:0.0000   1st Qu.:0.0000   1st Qu.:133.5  \n",
       " Median :241.0   Median :0.0000   Median :1.0000   Median :153.0  \n",
       " Mean   :246.7   Mean   :0.1485   Mean   :0.9901   Mean   :149.6  \n",
       " 3rd Qu.:275.0   3rd Qu.:0.0000   3rd Qu.:2.0000   3rd Qu.:166.0  \n",
       " Max.   :564.0   Max.   :1.0000   Max.   :2.0000   Max.   :202.0  \n",
       "                                                                  \n",
       "     ExAng           Oldpeak         Slope             Ca          AHD     \n",
       " Min.   :0.0000   Min.   :0.00   Min.   :1.000   Min.   :0.0000   No :164  \n",
       " 1st Qu.:0.0000   1st Qu.:0.00   1st Qu.:1.000   1st Qu.:0.0000   Yes:139  \n",
       " Median :0.0000   Median :0.80   Median :2.000   Median :0.0000            \n",
       " Mean   :0.3267   Mean   :1.04   Mean   :1.601   Mean   :0.6722            \n",
       " 3rd Qu.:1.0000   3rd Qu.:1.60   3rd Qu.:2.000   3rd Qu.:1.0000            \n",
       " Max.   :1.0000   Max.   :6.20   Max.   :3.000   Max.   :3.0000            \n",
       "                                                 NA's   :4                 "
      ]
     },
     "metadata": {},
     "output_type": "display_data"
    }
   ],
   "source": [
    "summary(hc)"
   ]
  },
  {
   "cell_type": "markdown",
   "metadata": {},
   "source": [
    "### 4a."
   ]
  },
  {
   "cell_type": "markdown",
   "metadata": {},
   "source": [
    "Data Set Information:\n",
    "This is the Heart dataset from the ISLR package. This dataset has p = 11 features and k=2 where the 2 classes indicate the presence or absence of Angiographic Heart Disease (Yes,No).  \n",
    "Attribute Information:\n",
    "Only 12 attributes used: \n",
    "1. (Age) - age in years\n",
    "2. (Sex) - sex (1 = male; 0 = female)\n",
    "3. (RestBP) -  resting blood pressure (in mm Hg on admission to the hospital) \n",
    "4. (Chol) - serum cholestoral in mg/dl \n",
    "5. (Fbs) - (fasting blood sugar > 120 mg/dl) (1 = true; 0 = false) \n",
    "6. (RestECG) - resting electrocardiographic results \n",
    "7. (MaxHR) - Maximum Heart Rate\n",
    "8. (ExAng) - exercise induced angina (1 = yes; 0 = no) \n",
    "9. (Oldpeak) - ST depression induced by exercise relative to rest \n",
    "10. (Slope) - the slope of the peak exercise ST segment \n",
    "11. (Ca) - number of major vessels (0-3) colored by flourosopy \n",
    "12. (AHD) (the predicted attribute) - Angiographic Heart Disease Status\n",
    "\n",
    "Sample Size in each class for AHD\n",
    "1. k = 1 = No = 164 observations\n",
    "2. k = 2 = Yes = 139 observations\n",
    "\n",
    "All variables are quantitative"
   ]
  },
  {
   "cell_type": "markdown",
   "metadata": {},
   "source": [
    "### 4b."
   ]
  },
  {
   "cell_type": "code",
   "execution_count": 682,
   "metadata": {},
   "outputs": [
    {
     "data": {
      "image/png": "[encoded data removed]",
      "text/plain": [
       "plot without title"
      ]
     },
     "metadata": {},
     "output_type": "display_data"
    }
   ],
   "source": [
    "par(mfrow=c(3,4))\n",
    "plot(x=hc$Age,y=hc$AHD)\n",
    "plot(x=hc$Sex,y=hc$AHD)\n",
    "plot(x=hc$RestBP,y=hc$AHD)\n",
    "plot(x=hc$Chol,y=hc$AHD)\n",
    "plot(x=hc$Fbs,y=hc$AHD)\n",
    "plot(x=hc$RestECG,y=hc$AHD)\n",
    "plot(x=hc$MaxHR,y=hc$AHD)\n",
    "plot(x=hc$ExAng,y=hc$AHD)\n",
    "plot(x=hc$Oldpeak,y=hc$AHD)\n",
    "plot(x=hc$Slope,y=hc$AHD)\n",
    "plot(x=hc$Ca,y=hc$AHD)"
   ]
  },
  {
   "cell_type": "markdown",
   "metadata": {},
   "source": [
    "The variables Slope, Ca, ExAng, RestECG, Fbs and Sex are variables with fixed values. Hence it is difficult to predict the outcome of Y(AHD) based on the scatterplots for these variables.\n",
    "\n",
    "In the case of Age, Chol and OldPeak the spread of data across the X axis is more or less the same for both Y = 1 or Y = 2 and hence there seems to be no discernible trend in the scatter plots that would help predict Y(AHD)\n",
    "\n",
    "RestBP - Based on the scatterplot alone there is a slight positive correlation between RestBP and Y(AHD)\n",
    "\n",
    "MaxHR - Based on the scatterplot alone there is a slight negative correlation between MaxHR and Y(AHD)\n",
    "\n"
   ]
  },
  {
   "cell_type": "markdown",
   "metadata": {},
   "source": [
    "### 4c."
   ]
  },
  {
   "cell_type": "code",
   "execution_count": 683,
   "metadata": {},
   "outputs": [
    {
     "data": {
      "text/plain": [
       "\n",
       "Call:\n",
       "glm(formula = AHD ~ Age + Sex + RestBP + Chol + Fbs + RestECG + \n",
       "    MaxHR + ExAng + Oldpeak + Slope + Ca, family = binomial(), \n",
       "    data = hc)\n",
       "\n",
       "Deviance Residuals: \n",
       "    Min       1Q   Median       3Q      Max  \n",
       "-2.6250  -0.5598  -0.2238   0.5311   2.5436  \n",
       "\n",
       "Coefficients:\n",
       "             Estimate Std. Error z value Pr(>|z|)    \n",
       "(Intercept) -3.536218   2.460752  -1.437  0.15070    \n",
       "Age         -0.016989   0.022313  -0.761  0.44643    \n",
       "Sex          1.790264   0.415343   4.310 1.63e-05 ***\n",
       "RestBP       0.021924   0.010099   2.171  0.02994 *  \n",
       "Chol         0.006570   0.003629   1.810  0.07027 .  \n",
       "Fbs         -0.980675   0.490803  -1.998  0.04571 *  \n",
       "RestECG      0.131016   0.170218   0.770  0.44148    \n",
       "MaxHR       -0.027097   0.009374  -2.891  0.00384 ** \n",
       "ExAng        1.512324   0.369133   4.097 4.19e-05 ***\n",
       "Oldpeak      0.242883   0.193560   1.255  0.20954    \n",
       "Slope        0.677031   0.337920   2.004  0.04512 *  \n",
       "Ca           1.336411   0.245082   5.453 4.95e-08 ***\n",
       "---\n",
       "Signif. codes:  0 '***' 0.001 '**' 0.01 '*' 0.05 '.' 0.1 ' ' 1\n",
       "\n",
       "(Dispersion parameter for binomial family taken to be 1)\n",
       "\n",
       "    Null deviance: 412.73  on 298  degrees of freedom\n",
       "Residual deviance: 233.12  on 287  degrees of freedom\n",
       "  (4 observations deleted due to missingness)\n",
       "AIC: 257.12\n",
       "\n",
       "Number of Fisher Scoring iterations: 5\n"
      ]
     },
     "metadata": {},
     "output_type": "display_data"
    }
   ],
   "source": [
    "logfit <- glm(AHD ~ Age+Sex+RestBP+Chol+Fbs+RestECG+MaxHR+ExAng+Oldpeak+Slope+Ca,data=hc,family=binomial())\n",
    "summary(logfit)"
   ]
  },
  {
   "cell_type": "markdown",
   "metadata": {},
   "source": [
    "### 4d."
   ]
  },
  {
   "cell_type": "markdown",
   "metadata": {},
   "source": [
    "According to the model in c we can reject the variables Age, Chol, RestECG, Oldpeak because the p values are greater than significance level 0.05. While the impact of RestECG was difficult to determine from the scatterplots alone, we were able to see that Age, Chol and Oldpeak had no impact on AHD based on the scatterplots alone."
   ]
  },
  {
   "cell_type": "markdown",
   "metadata": {},
   "source": [
    "### 4e."
   ]
  },
  {
   "cell_type": "markdown",
   "metadata": {},
   "source": [
    "According to the model in c X1 = Age. It has a coefficient of -0.016989. Therefore a one unit increase in Age leads to a roughly 0.017 unit decrease in the log odds for AHD."
   ]
  }
 ],
 "metadata": {
  "kernelspec": {
   "display_name": "Python 3",
   "language": "python",
   "name": "python3"
  },
  "language_info": {
   "codemirror_mode": {
    "name": "ipython",
    "version": 3
   },
   "file_extension": ".py",
   "mimetype": "text/x-python",
   "name": "python",
   "nbconvert_exporter": "python",
   "pygments_lexer": "ipython3",
   "version": "3.7.0"
  }
 },
 "nbformat": 4,
 "nbformat_minor": 2
}
